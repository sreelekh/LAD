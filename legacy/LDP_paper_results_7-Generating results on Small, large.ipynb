{
 "cells": [
  {
   "cell_type": "markdown",
   "metadata": {},
   "source": [
    "# Import libraries"
   ]
  },
  {
   "cell_type": "code",
   "execution_count": 8,
   "metadata": {
    "ExecuteTime": {
     "end_time": "2021-07-07T16:27:17.227820Z",
     "start_time": "2021-07-07T16:27:17.160328Z"
    }
   },
   "outputs": [],
   "source": [
    "%run ./import_functions.ipynb"
   ]
  },
  {
   "cell_type": "code",
   "execution_count": 2,
   "metadata": {
    "ExecuteTime": {
     "end_time": "2021-02-05T02:51:20.138085Z",
     "start_time": "2021-02-05T02:51:15.481539Z"
    },
    "scrolled": true
   },
   "outputs": [
    {
     "name": "stderr",
     "output_type": "stream",
     "text": [
      "Using TensorFlow backend.\n",
      "/Users/lekhag/opt/anaconda3/lib/python3.7/site-packages/tensorflow/python/framework/dtypes.py:516: FutureWarning: Passing (type, 1) or '1type' as a synonym of type is deprecated; in a future version of numpy, it will be understood as (type, (1,)) / '(1,)type'.\n",
      "  _np_qint8 = np.dtype([(\"qint8\", np.int8, 1)])\n",
      "/Users/lekhag/opt/anaconda3/lib/python3.7/site-packages/tensorflow/python/framework/dtypes.py:517: FutureWarning: Passing (type, 1) or '1type' as a synonym of type is deprecated; in a future version of numpy, it will be understood as (type, (1,)) / '(1,)type'.\n",
      "  _np_quint8 = np.dtype([(\"quint8\", np.uint8, 1)])\n",
      "/Users/lekhag/opt/anaconda3/lib/python3.7/site-packages/tensorflow/python/framework/dtypes.py:518: FutureWarning: Passing (type, 1) or '1type' as a synonym of type is deprecated; in a future version of numpy, it will be understood as (type, (1,)) / '(1,)type'.\n",
      "  _np_qint16 = np.dtype([(\"qint16\", np.int16, 1)])\n",
      "/Users/lekhag/opt/anaconda3/lib/python3.7/site-packages/tensorflow/python/framework/dtypes.py:519: FutureWarning: Passing (type, 1) or '1type' as a synonym of type is deprecated; in a future version of numpy, it will be understood as (type, (1,)) / '(1,)type'.\n",
      "  _np_quint16 = np.dtype([(\"quint16\", np.uint16, 1)])\n",
      "/Users/lekhag/opt/anaconda3/lib/python3.7/site-packages/tensorflow/python/framework/dtypes.py:520: FutureWarning: Passing (type, 1) or '1type' as a synonym of type is deprecated; in a future version of numpy, it will be understood as (type, (1,)) / '(1,)type'.\n",
      "  _np_qint32 = np.dtype([(\"qint32\", np.int32, 1)])\n",
      "/Users/lekhag/opt/anaconda3/lib/python3.7/site-packages/tensorflow/python/framework/dtypes.py:525: FutureWarning: Passing (type, 1) or '1type' as a synonym of type is deprecated; in a future version of numpy, it will be understood as (type, (1,)) / '(1,)type'.\n",
      "  np_resource = np.dtype([(\"resource\", np.ubyte, 1)])\n",
      "/Users/lekhag/opt/anaconda3/lib/python3.7/site-packages/tensorboard/compat/tensorflow_stub/dtypes.py:541: FutureWarning: Passing (type, 1) or '1type' as a synonym of type is deprecated; in a future version of numpy, it will be understood as (type, (1,)) / '(1,)type'.\n",
      "  _np_qint8 = np.dtype([(\"qint8\", np.int8, 1)])\n",
      "/Users/lekhag/opt/anaconda3/lib/python3.7/site-packages/tensorboard/compat/tensorflow_stub/dtypes.py:542: FutureWarning: Passing (type, 1) or '1type' as a synonym of type is deprecated; in a future version of numpy, it will be understood as (type, (1,)) / '(1,)type'.\n",
      "  _np_quint8 = np.dtype([(\"quint8\", np.uint8, 1)])\n",
      "/Users/lekhag/opt/anaconda3/lib/python3.7/site-packages/tensorboard/compat/tensorflow_stub/dtypes.py:543: FutureWarning: Passing (type, 1) or '1type' as a synonym of type is deprecated; in a future version of numpy, it will be understood as (type, (1,)) / '(1,)type'.\n",
      "  _np_qint16 = np.dtype([(\"qint16\", np.int16, 1)])\n",
      "/Users/lekhag/opt/anaconda3/lib/python3.7/site-packages/tensorboard/compat/tensorflow_stub/dtypes.py:544: FutureWarning: Passing (type, 1) or '1type' as a synonym of type is deprecated; in a future version of numpy, it will be understood as (type, (1,)) / '(1,)type'.\n",
      "  _np_quint16 = np.dtype([(\"quint16\", np.uint16, 1)])\n",
      "/Users/lekhag/opt/anaconda3/lib/python3.7/site-packages/tensorboard/compat/tensorflow_stub/dtypes.py:545: FutureWarning: Passing (type, 1) or '1type' as a synonym of type is deprecated; in a future version of numpy, it will be understood as (type, (1,)) / '(1,)type'.\n",
      "  _np_qint32 = np.dtype([(\"qint32\", np.int32, 1)])\n",
      "/Users/lekhag/opt/anaconda3/lib/python3.7/site-packages/tensorboard/compat/tensorflow_stub/dtypes.py:550: FutureWarning: Passing (type, 1) or '1type' as a synonym of type is deprecated; in a future version of numpy, it will be understood as (type, (1,)) / '(1,)type'.\n",
      "  np_resource = np.dtype([(\"resource\", np.ubyte, 1)])\n"
     ]
    }
   ],
   "source": [
    "%run ./import_libraries.ipynb"
   ]
  },
  {
   "cell_type": "code",
   "execution_count": 3,
   "metadata": {
    "ExecuteTime": {
     "end_time": "2021-02-05T02:51:20.148517Z",
     "start_time": "2021-02-05T02:51:20.142224Z"
    }
   },
   "outputs": [],
   "source": [
    "%run ./import_global_params.ipynb"
   ]
  },
  {
   "cell_type": "markdown",
   "metadata": {},
   "source": [
    "# Real Data"
   ]
  },
  {
   "cell_type": "code",
   "execution_count": 4,
   "metadata": {
    "ExecuteTime": {
     "end_time": "2021-02-05T02:51:20.158153Z",
     "start_time": "2021-02-05T02:51:20.150749Z"
    },
    "code_folding": [
     0
    ]
   },
   "outputs": [],
   "source": [
    "# date_label=datetime.now().strftime(\"_%m_%d_%Y\")\n",
    "date_label='_2_4_2021'\n",
    "newpath = os.getcwd()+'/'+date_label\n",
    "if not os.path.exists(newpath):\n",
    "    os.makedirs(newpath)\n",
    "    \n",
    "data_path='/Users/lekhag/Documents/INCAD Improvements/Parallel Gibbs/Cleaned Version/'\n",
    "    \n",
    "data_source_ad=data_path+'/Data/AD/'\n",
    "data_source_large=data_path+'/Data/Stream/Large'\n",
    "data_source_covid=os.getcwd()+'/COVID-19/csse_covid_19_data/csse_covid_19_time_series/'\n",
    "\n",
    "\n",
    "if not os.path.exists(data_source_large):\n",
    "    os.makedirs(data_source_large)\n",
    "\n",
    "results_path_non_stream_ad=newpath+'/Results/non_streaming/AD/'\n",
    "results_path_non_stream_clust=newpath+'/Results/non_streaming/Clustering/'\n",
    "results_path_covid=newpath+'/Results/COVID/'\n",
    "results_path_non_stream_ad_large=newpath+'/Results/non_streaming/Large/AD/'\n",
    "results_path_non_stream_clust_large=newpath+'/Results/non_streaming/Large/Clustering/'\n",
    "\n",
    "\n",
    "\n",
    "image_path_non_stream_ad=results_path_non_stream_ad+'images/'\n",
    "image_path_non_stream_clust=results_path_non_stream_clust+'images/'\n",
    "image_path_covid=results_path_covid+'images/'\n",
    "image_path_non_stream_ad_large=results_path_non_stream_ad_large+'images/'\n",
    "image_path_non_stream_clust_large=results_path_non_stream_clust_large+'images/'\n",
    "\n",
    "\n",
    "\n",
    "if not os.path.exists(image_path_non_stream_ad):\n",
    "    os.makedirs(image_path_non_stream_ad)\n",
    "if not os.path.exists(image_path_non_stream_clust):\n",
    "    os.makedirs(image_path_non_stream_clust)\n",
    "if not os.path.exists(image_path_covid):\n",
    "    os.makedirs(image_path_covid)    \n",
    "if not os.path.exists(image_path_non_stream_ad_large):\n",
    "    os.makedirs(image_path_non_stream_ad_large)\n",
    "if not os.path.exists(image_path_non_stream_clust_large):\n",
    "    os.makedirs(image_path_non_stream_clust_large)\n",
    "\n",
    "\n"
   ]
  },
  {
   "cell_type": "markdown",
   "metadata": {},
   "source": [
    "###### Model results"
   ]
  },
  {
   "cell_type": "code",
   "execution_count": 5,
   "metadata": {
    "ExecuteTime": {
     "end_time": "2021-02-05T02:51:20.175920Z",
     "start_time": "2021-02-05T02:51:20.160206Z"
    },
    "code_folding": [
     1,
     4,
     23,
     43,
     61,
     69
    ]
   },
   "outputs": [],
   "source": [
    "from scipy.io import arff\n",
    "def load_data(file_path):\n",
    "    filename, extension = os.path.splitext(file_path)\n",
    "    name=(os.path.basename(file_path))\n",
    "    if (extension=='.mat'):\n",
    "        try:\n",
    "            mat = scipy.io.loadmat(file_path)\n",
    "            df = pd.DataFrame(np.hstack((mat['X'], mat['y'])))\n",
    "            X,y=mat['X'], mat['y']\n",
    "            return df,X,y\n",
    "\n",
    "        except:\n",
    "            try:\n",
    "                arrays = {}\n",
    "                f = h5py.File(file_path)\n",
    "                for k, v in f.items():\n",
    "                    arrays[k] = np.array(v)\n",
    "                X,y=arrays['X'].T,arrays['y'].T\n",
    "                df = pd.DataFrame(np.hstack((arrays['X'].T, arrays['y'].T)))\n",
    "                return df,X,y\n",
    "            except:\n",
    "                print(\"1 Failed to load\", name)\n",
    "\n",
    "    elif extension=='.csv':\n",
    "        try:\n",
    "            df = pd.read_csv(file_path,low_memory=False,delimiter=',',header=None)\n",
    "            df1=df[df.columns[(df.dtypes=='float')+(df.dtypes=='int')]]\n",
    "            if df1.shape[1]==0:\n",
    "                df = pd.read_csv(file_path,low_memory=False,delimiter=',')\n",
    "                df1=df[df.columns[(df.dtypes=='float')+(df.dtypes=='int')]]                \n",
    "            X=np.array(df1).astype(float)\n",
    "            y=df.drop(df.columns[(df.dtypes=='float')+(df.dtypes=='int')],axis=1)\n",
    "            return df,X,y\n",
    "        except:\n",
    "            try:\n",
    "                df = pd.read_csv(file_path,low_memory=False,delimiter=',')\n",
    "                df1=df[df.columns[(df.dtypes=='float')+(df.dtypes=='int')]]\n",
    "                X=np.array(df1).astype(float)\n",
    "                y=df.drop(df.columns[(df.dtypes=='float')+(df.dtypes=='int')],axis=1)\n",
    "                return df,X,y\n",
    "            except:\n",
    "                print(\"2 Failed to load\", name)\n",
    "\n",
    "    elif extension=='.pickle':\n",
    "        try:\n",
    "            data=pickle.load(open(file_path,'rb'))\n",
    "            X=data['X']\n",
    "            y=data['y']\n",
    "            return data,X,y\n",
    "        except:\n",
    "            try:\n",
    "                d = pickle.load( open(file_path, \"rb\" ) )\n",
    "                data=d['rawdata']\n",
    "                labels=d['labels']\n",
    "                X=np.array(data).astype(float)\n",
    "                y=labels\n",
    "                df=np.hstack((X,y))\n",
    "                return df,X,y\n",
    "            except:\n",
    "                print(\"3 Failed to load\", name)\n",
    "                \n",
    "    elif extension=='.arff':\n",
    "        data = arff.loadarff(file_path)\n",
    "        df = pd.DataFrame(data[0])\n",
    "        df1=df[df.columns[(df.dtypes=='float')+(df.dtypes=='int')]]\n",
    "        X=np.array(df1).astype(float)\n",
    "        y=df.drop(df.columns[(df.dtypes=='float')+(df.dtypes=='int')],axis=1)\n",
    "        return df,X,y\n",
    "        \n",
    "    else:\n",
    "        print(\"Failed to load the extension\",extension)\n",
    "        pass"
   ]
  },
  {
   "cell_type": "code",
   "execution_count": 6,
   "metadata": {
    "ExecuteTime": {
     "end_time": "2021-02-05T02:51:20.200265Z",
     "start_time": "2021-02-05T02:51:20.178166Z"
    },
    "code_folding": [
     0
    ]
   },
   "outputs": [],
   "source": [
    "def ldp_cluster_kmeans_old(X,K_f,th_f,numiters,covariance_type,reg_covar,conv_criteria,cluster_train):\n",
    "    thresholds=np.zeros(numiters)\n",
    "    th=0.95\n",
    "    N,D=X.shape\n",
    "    if K_f>1:\n",
    "        if D>30:\n",
    "            pca = PCA(n_components=2).fit_transform(X)\n",
    "            X_train, X_test = train_test_split(pca, train_size=cluster_train)\n",
    "            kmeans = MiniBatchKMeans(n_clusters=K_f)\n",
    "            kmeans = kmeans.partial_fit(X_train)\n",
    "            z_1=kmeans.predict(pca)+1\n",
    "\n",
    "        else:\n",
    "            X_train, X_test = train_test_split(X, train_size=cluster_train)\n",
    "            kmeans = MiniBatchKMeans(n_clusters=K_f)\n",
    "            kmeans = kmeans.partial_fit(X_train)\n",
    "            z_1=kmeans.predict(X)+1\n",
    "    else:\n",
    "        z_1=np.ones(N)        \n",
    "        \n",
    "    ana_score=np.zeros(N)\n",
    "    converged_=0            \n",
    "\n",
    "    for numiter in range(numiters):\n",
    "        sys.stdout.write('*')\n",
    "        clusters,sizes=np.unique(np.abs(z_1),return_counts=True)\n",
    "        K=len(clusters)\n",
    "        entropy_2 = np.empty((N, K, D))\n",
    "\n",
    "        thetas=[]\n",
    "        for k in clusters:\n",
    "            ind_k_0=z_1==k\n",
    "            ind_k=np.where(ind_k_0[ana_score<th])[0]\n",
    "            c = len(ind_k)\n",
    "            thetas.append(tuple((np.mean(X[ind_k],axis=0), \n",
    "                        np.array([np.cov(X[ind_k,d]) for d in range(D)]))))\n",
    "        nk=sizes\n",
    "        cc=range(len(thetas))\n",
    "        means_=np.array([thetas[k][0].T for k in cc])\n",
    "        covariances=np.array([thetas[k][1] for k in cc])\n",
    "#         para_tuple=nk,means_,covariances\n",
    "\n",
    "\n",
    "        n_samples, n_features = X.shape\n",
    "        n_components, _ = means_.shape\n",
    "\n",
    "        ss=[1/(cov) for cov in covariances]\n",
    "        for k, (mu, prec_chol) in enumerate(zip(means_, ss)):\n",
    "            prec_chol[np.isnan(prec_chol)]=0\n",
    "            prec_chol[np.isinf(prec_chol)]=0\n",
    "            y=(np.square(X-mu)*prec_chol)/2\n",
    "            entropy_2[:, k, :] = (y)/sizes[k]\n",
    "                \n",
    "        entropy_DGProjection=np.max(entropy_2,axis=2)\n",
    "        \n",
    "        if K_f>1:\n",
    "            cluster_log_probs=-(entropy_DGProjection*sizes)\n",
    "#             cluster_prob=(np.exp(cluster_log_probs))\n",
    "            z_1=np.argmax(cluster_log_probs,axis=1).flatten()+1\n",
    "\n",
    "\n",
    "            \n",
    "\n",
    "        ana_score=-np.max(-((entropy_DGProjection)), axis=1)\n",
    "        ana_score=(ana_score-np.min(ana_score))/(np.max(ana_score)-np.min(ana_score))\n",
    "\n",
    "#         ana_score=ana_score\n",
    "        th=min(th_f,0.95,np.mean(ana_score)+2*np.cov(ana_score))\n",
    "\n",
    "        ana_inds=ana_score>th\n",
    "\n",
    "        z_1[ana_score>th]*=(-1)\n",
    "        \n",
    "        if np.sum(z_1<0)>min(0.25*N,D):\n",
    "            z_1[np.argsort(-ana_score)[:int(0.25*N)]]=-1*np.abs(z_1[np.argsort(-ana_score)[:int(0.25*N)]])\n",
    "            z_1[np.argsort(-ana_score)[int(0.25*N):]]=np.abs(z_1[np.argsort(-ana_score)[int(0.25*N):]])\n",
    "\n",
    "        \n",
    "        thresholds[numiter]=th\n",
    "        \n",
    "        if numiter > 100 and (np.max(np.abs(np.diff(thresholds[numiter-10:numiter])))<conv_criteria):\n",
    "            converged_ += 1\n",
    "            if converged_>0:\n",
    "                print(\"Converged\")\n",
    "                break\n",
    "                \n",
    "\n",
    "    output={}\n",
    "    output['z']=[z_1]\n",
    "    output['entropy']=entropy_2\n",
    "    output['prob']=ana_score\n",
    "    output['thresholds']=thresholds\n",
    "    return output"
   ]
  },
  {
   "cell_type": "code",
   "execution_count": 7,
   "metadata": {
    "ExecuteTime": {
     "end_time": "2021-02-05T02:51:20.220972Z",
     "start_time": "2021-02-05T02:51:20.202485Z"
    },
    "code_folding": [
     0
    ]
   },
   "outputs": [],
   "source": [
    "def ldp_cluster_kmeans(X,K_f,th_f,numiters,covariance_type,reg_covar,conv_criteria,cluster_train):\n",
    "# if 1:\n",
    "    thresholds=np.zeros(numiters)\n",
    "    th=th_f\n",
    "    N,D=X.shape\n",
    "    if K_f>1:\n",
    "        if D>20:\n",
    "            pca = PCA(n_components=20).fit_transform(X)\n",
    "            X_train, X_test = train_test_split(pca, train_size=cluster_train)\n",
    "            kmeans = MiniBatchKMeans(n_clusters=K_f)\n",
    "            kmeans = kmeans.partial_fit(X_train)\n",
    "            z_1=kmeans.predict(pca)+1\n",
    "#             clustering = OPTICS(min_samples=2).fit(pca)\n",
    "#             z_1=clustering.labels_\n",
    "\n",
    "\n",
    "        else:\n",
    "            X_train, X_test = train_test_split(X, train_size=cluster_train)\n",
    "            kmeans = MiniBatchKMeans(n_clusters=K_f)\n",
    "            kmeans = kmeans.partial_fit(X_train)\n",
    "            z_1=kmeans.predict(X)+1\n",
    "    else:\n",
    "        z_1=np.ones(N)        \n",
    "        \n",
    "    ana_score=np.zeros(N)\n",
    "    converged_=0            \n",
    "\n",
    "    for numiter in range(numiters):\n",
    "        sys.stdout.write('*')\n",
    "        clusters,sizes=np.unique(np.abs(z_1),return_counts=True)\n",
    "        if len(clusters)<K_f:\n",
    "            cluster_prob=(np.exp(cluster_log_probs))+sys.float_info.min\n",
    "            cluster_prob/=np.sum(cluster_prob,axis=1)[:,np.newaxis]\n",
    "            z_1=np.array([np.argmax(np.random.multinomial(1,cluster_prob[i]))+1 for i in range(N)])\n",
    "            if len(np.unique(z_1))<K_f:\n",
    "                K_f=len(np.unique(z_1))\n",
    "\n",
    "#             break\n",
    "\n",
    "            \n",
    "        K=len(clusters)\n",
    "        entropy_2 = np.empty((N, K, D))\n",
    "\n",
    "        thetas=[]\n",
    "        for k in clusters:\n",
    "            ind_k_0=z_1==k\n",
    "            ind_k=np.where(ind_k_0[ana_score<th])[0]\n",
    "            c = len(ind_k)\n",
    "            if c<3:\n",
    "                ind_k=np.abs(z_1)==k\n",
    "                thetas.append(tuple((np.mean(X[ind_k],axis=0), \n",
    "                            np.array([np.cov(X[:,d]) for d in range(D)]))))\n",
    "            else:\n",
    "                thetas.append(tuple((np.mean(X[ind_k],axis=0), \n",
    "                            np.array([np.cov(X[ind_k,d]) for d in range(D)]))))\n",
    "\n",
    "                \n",
    "        nk=sizes\n",
    "        cc=range(len(thetas))\n",
    "        means_=np.array([thetas[k][0].T for k in cc])\n",
    "        covariances=np.array([thetas[k][1] for k in cc])\n",
    "#         para_tuple=nk,means_,covariances\n",
    "\n",
    "\n",
    "        n_samples, n_features = X.shape\n",
    "        n_components, _ = means_.shape\n",
    "\n",
    "        ss=[1/(cov) for cov in covariances]\n",
    "        for k, (mu, prec_chol) in enumerate(zip(means_, ss)):\n",
    "            prec_chol[np.isnan(prec_chol)]=0\n",
    "            prec_chol[np.isinf(prec_chol)]=0\n",
    "            y=(np.square(X-mu)*prec_chol)/2\n",
    "            entropy_2[:, k, :] = (y)/sizes[k]\n",
    "                \n",
    "        entropy_DGProjection=np.max(entropy_2,axis=2)\n",
    "        \n",
    "        if K_f>1:\n",
    "            cluster_log_probs=-(entropy_DGProjection*sizes)\n",
    "#             cluster_prob=(np.exp(cluster_log_probs))\n",
    "            z_1=np.argmax(cluster_log_probs,axis=1).flatten()+1\n",
    "\n",
    "        ana_score=-np.max(-((entropy_DGProjection)), axis=1)\n",
    "        ana_score=(ana_score-np.min(ana_score))/(np.max(ana_score)-np.min(ana_score))\n",
    "\n",
    "#         ana_score=ana_score\n",
    "        th=min(th_f,0.95,np.mean(ana_score)+2*np.cov(ana_score))\n",
    "\n",
    "        ana_inds=ana_score>th\n",
    "\n",
    "        z_1[ana_score>th]*=(-1)\n",
    "        \n",
    "        if np.sum(z_1<0)>min(0.25*N,D):\n",
    "            z_1[np.argsort(-ana_score)[:int(0.25*N)]]=-1*np.abs(z_1[np.argsort(-ana_score)[:int(0.25*N)]])\n",
    "            z_1[np.argsort(-ana_score)[int(0.25*N):]]=np.abs(z_1[np.argsort(-ana_score)[int(0.25*N):]])\n",
    "\n",
    "        \n",
    "        thresholds[numiter]=th\n",
    "        \n",
    "        if numiter > 100 and (np.max(np.abs(np.diff(thresholds[numiter-10:numiter])))<conv_criteria):\n",
    "            converged_ += 1\n",
    "            if converged_>0:\n",
    "                print(\"Converged\")\n",
    "                break\n",
    "                \n",
    "\n",
    "    output={}\n",
    "    output['z']=[z_1]\n",
    "    output['entropy']=entropy_2\n",
    "    output['prob']=ana_score\n",
    "    output['thresholds']=thresholds\n",
    "    return output"
   ]
  },
  {
   "cell_type": "code",
   "execution_count": null,
   "metadata": {},
   "outputs": [],
   "source": []
  },
  {
   "cell_type": "markdown",
   "metadata": {},
   "source": [
    "## Non-TS Data"
   ]
  },
  {
   "cell_type": "markdown",
   "metadata": {},
   "source": [
    "###### Non Stream AD : Small datasets without clustering"
   ]
  },
  {
   "cell_type": "code",
   "execution_count": null,
   "metadata": {},
   "outputs": [],
   "source": []
  },
  {
   "cell_type": "code",
   "execution_count": 8,
   "metadata": {
    "ExecuteTime": {
     "end_time": "2021-02-05T02:51:20.226873Z",
     "start_time": "2021-02-05T02:51:20.224765Z"
    }
   },
   "outputs": [],
   "source": [
    "# data_source=data_source_large\n",
    "# results_path= results_path_non_stream_ad\n",
    "\n",
    "data_source=data_source_ad\n",
    "results_path= results_path_non_stream_ad\n",
    "\n"
   ]
  },
  {
   "cell_type": "code",
   "execution_count": 9,
   "metadata": {
    "ExecuteTime": {
     "end_time": "2021-02-05T02:51:25.651753Z",
     "start_time": "2021-02-05T02:51:20.230013Z"
    },
    "code_folding": [],
    "scrolled": true
   },
   "outputs": [
    {
     "name": "stderr",
     "output_type": "stream",
     "text": [
      "/Users/lekhag/opt/anaconda3/lib/python3.7/site-packages/ipykernel_launcher.py:15: H5pyDeprecationWarning: The default file mode will change to 'r' (read-only) in h5py 3.0. To suppress this warning, pass the mode you need to h5py.File(), or set the global default h5.get_config().default_file_mode, or set the environment variable H5PY_DEFAULT_READONLY=1. Available modes are: 'r', 'r+', 'w', 'w-'/'x', 'a'. See the docs for details.\n",
      "  from ipykernel import kernelapp as app\n"
     ]
    },
    {
     "name": "stdout",
     "output_type": "stream",
     "text": [
      "http.mat (567498, 3)\n",
      "http.mat\n",
      "Destination path '/Users/lekhag/Documents/INCAD Improvements/Parallel Gibbs/Cleaned Version//Data/Stream/Large/http.mat' already exists\n",
      "pima.mat (768, 8)\n",
      "****************************************************************************************************wine.mat (129, 13)\n",
      "****************************************************************************************************cardio.mat (1831, 21)\n",
      "****************************************************************************************************mnist.mat (7603, 100)\n",
      "mnist.mat\n",
      "Destination path '/Users/lekhag/Documents/INCAD Improvements/Parallel Gibbs/Cleaned Version//Data/Stream/Large/mnist.mat' already exists\n",
      "1 Failed to load arrhythmia.mat\n",
      "arrhythmia.mat\n",
      "cannot unpack non-iterable NoneType object\n",
      "pendigits.mat (6870, 16)\n",
      "****************************************************************************************************breast-cancer-unsupervised-ad.csv (367, 30)\n",
      "*******"
     ]
    },
    {
     "name": "stderr",
     "output_type": "stream",
     "text": [
      "/Users/lekhag/opt/anaconda3/lib/python3.7/site-packages/pandas/core/computation/expressions.py:201: UserWarning: evaluating in Python space because the '+' operator is not supported by numexpr for the bool dtype, use '|' instead\n",
      "  f\"evaluating in Python space because the {repr(op_str)} \"\n"
     ]
    },
    {
     "name": "stdout",
     "output_type": "stream",
     "text": [
      "*********************************************************************************************shuttle.mat (49097, 9)\n",
      "shuttle.mat\n",
      "Destination path '/Users/lekhag/Documents/INCAD Improvements/Parallel Gibbs/Cleaned Version//Data/Stream/Large/shuttle.mat' already exists\n",
      "1 Failed to load musk.mat\n",
      "musk.mat\n",
      "cannot unpack non-iterable NoneType object\n",
      "smtp.pickle (113, 3)\n",
      "****************************************************************************************************shuttle-unsupervised-ad.csv (46464, 9)\n",
      "shuttle-unsupervised-ad.csv\n",
      "Destination path '/Users/lekhag/Documents/INCAD Improvements/Parallel Gibbs/Cleaned Version//Data/Stream/Large/shuttle-unsupervised-ad.csv' already exists\n",
      "thyroid.mat (3772, 6)\n",
      "****************************************************************************************************seismic-bumps.arff (2584, 14)\n",
      "************************************************************"
     ]
    },
    {
     "name": "stderr",
     "output_type": "stream",
     "text": [
      "/Users/lekhag/opt/anaconda3/lib/python3.7/site-packages/ipykernel_launcher.py:68: RuntimeWarning: divide by zero encountered in true_divide\n"
     ]
    },
    {
     "name": "stdout",
     "output_type": "stream",
     "text": [
      "****************************************vowels.mat (1456, 12)\n",
      "****************************************************************************************************1 Failed to load optdigits.mat\n",
      "optdigits.mat\n",
      "cannot unpack non-iterable NoneType object\n",
      "breastw.mat (683, 9)\n",
      "****************************************************************************************************1 Failed to load satellite.mat\n",
      "satellite.mat\n",
      "cannot unpack non-iterable NoneType object\n",
      "lympho.mat (148, 18)\n",
      "****************************************************************************************************1 Failed to load speech.mat\n",
      "speech.mat\n",
      "cannot unpack non-iterable NoneType object\n",
      "annthyroid.mat (7200, 6)\n",
      "****************************************************************************************************pen-global-unsupervised-ad.csv (809, 16)\n",
      "****************************************************************************************************wbc.mat (378, 30)\n",
      "****************************************************************************************************cover.pickle (217, 10)\n",
      "****************************************************************************************************http.pickle (110, 3)\n",
      "****************************************************************************************************smtp.mat (95156, 3)\n",
      "smtp.mat\n",
      "Destination path '/Users/lekhag/Documents/INCAD Improvements/Parallel Gibbs/Cleaned Version//Data/Stream/Large/smtp.mat' already exists\n",
      "mammography.mat (11183, 6)\n",
      "****************************************************************************************************glass.mat (214, 9)\n",
      "****************************************************************************************************1 Failed to load satimage-2.mat\n",
      "satimage-2.mat\n",
      "cannot unpack non-iterable NoneType object\n",
      "cover.mat (286048, 10)\n",
      "cover.mat\n",
      "Destination path '/Users/lekhag/Documents/INCAD Improvements/Parallel Gibbs/Cleaned Version//Data/Stream/Large/cover.mat' already exists\n",
      "kdd99-unsupervised-ad.csv (620098, 29)\n",
      "kdd99-unsupervised-ad.csv\n",
      "Destination path '/Users/lekhag/Documents/INCAD Improvements/Parallel Gibbs/Cleaned Version//Data/Stream/Large/kdd99-unsupervised-ad.csv' already exists\n",
      "vertebral.mat (240, 6)\n",
      "****************************************************************************************************large_dataset_count,error_count,len(onlyfiles) 7 13 32\n"
     ]
    }
   ],
   "source": [
    "# Anomaly Detection Non-Stream\n",
    "onlyfiles = [f for f in listdir(data_source) if isfile(join(data_source, f)) and f not in \n",
    "             ['.DS_Store','ecoli.mat'] ]\n",
    "error_count=0\n",
    "large_dataset_count=0\n",
    "max_size=20001\n",
    "\n",
    "for f in onlyfiles:\n",
    "    file_path=data_source+'/'+f\n",
    "    K=1\n",
    "    th=0.95\n",
    "    covariance_type='full'\n",
    "    reg_covar=1e-16\n",
    "    numiters=100\n",
    "    conv_criteria=1e-30\n",
    "    cluster_train=0.25\n",
    "\n",
    "\n",
    "    try:\n",
    "        df,X,y=load_data(file_path)\n",
    "        XX=pd.DataFrame(X)\n",
    "        print(f,X.shape)\n",
    "        \n",
    "        N,D=X.shape\n",
    "        if N>max_size or D>30:\n",
    "            large_dataset_count+=1\n",
    "            shutil.move(file_path, data_source_large)\n",
    "\n",
    "            \n",
    "        else:\n",
    "            start=time.time()\n",
    "            output=ldp_cluster_kmeans(X,K,th,numiters,covariance_type,reg_covar,conv_criteria,cluster_train)\n",
    "            end=time.time()\n",
    "            output['file_path']=file_path\n",
    "            output['comp_time_secs']=end-start\n",
    "\n",
    "            pickle.dump( output, open(results_path+f+\".pickle\", \"wb\" ))\n",
    "\n",
    "    except Exception as e:\n",
    "        error_count+=1\n",
    "        print(f)\n",
    "        print(e)\n",
    "print(\"large_dataset_count,error_count,len(onlyfiles)\",large_dataset_count,error_count,len(onlyfiles))"
   ]
  },
  {
   "cell_type": "code",
   "execution_count": null,
   "metadata": {},
   "outputs": [],
   "source": []
  },
  {
   "cell_type": "markdown",
   "metadata": {
    "heading_collapsed": true
   },
   "source": [
    "###### Non Stream AD : Small datasets with clustering, K=2"
   ]
  },
  {
   "cell_type": "code",
   "execution_count": 10,
   "metadata": {
    "ExecuteTime": {
     "end_time": "2021-02-05T02:51:25.655944Z",
     "start_time": "2021-02-05T02:51:25.653587Z"
    },
    "hidden": true
   },
   "outputs": [],
   "source": [
    "data_source=data_source_ad\n",
    "results_path= results_path_non_stream_clust"
   ]
  },
  {
   "cell_type": "code",
   "execution_count": 11,
   "metadata": {
    "ExecuteTime": {
     "end_time": "2021-02-05T02:51:32.905644Z",
     "start_time": "2021-02-05T02:51:25.657277Z"
    },
    "hidden": true,
    "scrolled": true
   },
   "outputs": [
    {
     "name": "stdout",
     "output_type": "stream",
     "text": [
      "http.mat (567498, 3)\n",
      "http.mat\n",
      "Destination path '/Users/lekhag/Documents/INCAD Improvements/Parallel Gibbs/Cleaned Version//Data/Stream/Large/http.mat' already exists\n",
      "pima.mat (768, 8)\n",
      "**************"
     ]
    },
    {
     "name": "stderr",
     "output_type": "stream",
     "text": [
      "/Users/lekhag/opt/anaconda3/lib/python3.7/site-packages/ipykernel_launcher.py:15: H5pyDeprecationWarning: The default file mode will change to 'r' (read-only) in h5py 3.0. To suppress this warning, pass the mode you need to h5py.File(), or set the global default h5.get_config().default_file_mode, or set the environment variable H5PY_DEFAULT_READONLY=1. Available modes are: 'r', 'r+', 'w', 'w-'/'x', 'a'. See the docs for details.\n",
      "  from ipykernel import kernelapp as app\n"
     ]
    },
    {
     "name": "stdout",
     "output_type": "stream",
     "text": [
      "**************************************************************************************wine.mat (129, 13)\n",
      "****************************************************************************************************cardio.mat (1831, 21)\n",
      "****************************************************************************************************mnist.mat (7603, 100)\n",
      "mnist.mat\n",
      "Destination path '/Users/lekhag/Documents/INCAD Improvements/Parallel Gibbs/Cleaned Version//Data/Stream/Large/mnist.mat' already exists\n",
      "1 Failed to load arrhythmia.mat\n",
      "arrhythmia.mat\n",
      "cannot unpack non-iterable NoneType object\n",
      "pendigits.mat (6870, 16)\n",
      "******"
     ]
    },
    {
     "name": "stderr",
     "output_type": "stream",
     "text": [
      "/Users/lekhag/opt/anaconda3/lib/python3.7/site-packages/ipykernel_launcher.py:15: H5pyDeprecationWarning: The default file mode will change to 'r' (read-only) in h5py 3.0. To suppress this warning, pass the mode you need to h5py.File(), or set the global default h5.get_config().default_file_mode, or set the environment variable H5PY_DEFAULT_READONLY=1. Available modes are: 'r', 'r+', 'w', 'w-'/'x', 'a'. See the docs for details.\n",
      "  from ipykernel import kernelapp as app\n"
     ]
    },
    {
     "name": "stdout",
     "output_type": "stream",
     "text": [
      "**********************************************************************************************breast-cancer-unsupervised-ad.csv (367, 30)\n",
      "********************************************************"
     ]
    },
    {
     "name": "stderr",
     "output_type": "stream",
     "text": [
      "/Users/lekhag/opt/anaconda3/lib/python3.7/site-packages/pandas/core/computation/expressions.py:201: UserWarning: evaluating in Python space because the '+' operator is not supported by numexpr for the bool dtype, use '|' instead\n",
      "  f\"evaluating in Python space because the {repr(op_str)} \"\n"
     ]
    },
    {
     "name": "stdout",
     "output_type": "stream",
     "text": [
      "********************************************shuttle.mat (49097, 9)\n",
      "shuttle.mat\n",
      "Destination path '/Users/lekhag/Documents/INCAD Improvements/Parallel Gibbs/Cleaned Version//Data/Stream/Large/shuttle.mat' already exists\n",
      "1 Failed to load musk.mat\n",
      "musk.mat\n",
      "cannot unpack non-iterable NoneType object\n",
      "smtp.pickle (113, 3)\n",
      "********************************************************************************"
     ]
    },
    {
     "name": "stderr",
     "output_type": "stream",
     "text": [
      "/Users/lekhag/opt/anaconda3/lib/python3.7/site-packages/ipykernel_launcher.py:15: H5pyDeprecationWarning: The default file mode will change to 'r' (read-only) in h5py 3.0. To suppress this warning, pass the mode you need to h5py.File(), or set the global default h5.get_config().default_file_mode, or set the environment variable H5PY_DEFAULT_READONLY=1. Available modes are: 'r', 'r+', 'w', 'w-'/'x', 'a'. See the docs for details.\n",
      "  from ipykernel import kernelapp as app\n",
      "/Users/lekhag/opt/anaconda3/lib/python3.7/site-packages/pandas/core/computation/expressions.py:201: UserWarning: evaluating in Python space because the '+' operator is not supported by numexpr for the bool dtype, use '|' instead\n",
      "  f\"evaluating in Python space because the {repr(op_str)} \"\n"
     ]
    },
    {
     "name": "stdout",
     "output_type": "stream",
     "text": [
      "********************shuttle-unsupervised-ad.csv (46464, 9)\n",
      "shuttle-unsupervised-ad.csv\n",
      "Destination path '/Users/lekhag/Documents/INCAD Improvements/Parallel Gibbs/Cleaned Version//Data/Stream/Large/shuttle-unsupervised-ad.csv' already exists\n",
      "thyroid.mat (3772, 6)\n",
      "****************************************************************************************************seismic-bumps.arff (2584, 14)\n",
      "******************"
     ]
    },
    {
     "name": "stderr",
     "output_type": "stream",
     "text": [
      "/Users/lekhag/opt/anaconda3/lib/python3.7/site-packages/pandas/core/computation/expressions.py:201: UserWarning: evaluating in Python space because the '+' operator is not supported by numexpr for the bool dtype, use '|' instead\n",
      "  f\"evaluating in Python space because the {repr(op_str)} \"\n",
      "/Users/lekhag/opt/anaconda3/lib/python3.7/site-packages/ipykernel_launcher.py:68: RuntimeWarning: divide by zero encountered in true_divide\n"
     ]
    },
    {
     "name": "stdout",
     "output_type": "stream",
     "text": [
      "**********************************************************************************vowels.mat (1456, 12)\n",
      "****************************************************************************************************1 Failed to load optdigits.mat\n",
      "optdigits.mat\n",
      "cannot unpack non-iterable NoneType object\n",
      "breastw.mat (683, 9)\n",
      "****************************************************************************************************1 Failed to load satellite.mat\n",
      "satellite.mat\n",
      "cannot unpack non-iterable NoneType object\n",
      "lympho.mat (148, 18)\n",
      "***"
     ]
    },
    {
     "name": "stderr",
     "output_type": "stream",
     "text": [
      "/Users/lekhag/opt/anaconda3/lib/python3.7/site-packages/ipykernel_launcher.py:15: H5pyDeprecationWarning: The default file mode will change to 'r' (read-only) in h5py 3.0. To suppress this warning, pass the mode you need to h5py.File(), or set the global default h5.get_config().default_file_mode, or set the environment variable H5PY_DEFAULT_READONLY=1. Available modes are: 'r', 'r+', 'w', 'w-'/'x', 'a'. See the docs for details.\n",
      "  from ipykernel import kernelapp as app\n",
      "/Users/lekhag/opt/anaconda3/lib/python3.7/site-packages/ipykernel_launcher.py:15: H5pyDeprecationWarning: The default file mode will change to 'r' (read-only) in h5py 3.0. To suppress this warning, pass the mode you need to h5py.File(), or set the global default h5.get_config().default_file_mode, or set the environment variable H5PY_DEFAULT_READONLY=1. Available modes are: 'r', 'r+', 'w', 'w-'/'x', 'a'. See the docs for details.\n",
      "  from ipykernel import kernelapp as app\n",
      "/Users/lekhag/opt/anaconda3/lib/python3.7/site-packages/ipykernel_launcher.py:68: RuntimeWarning: divide by zero encountered in true_divide\n"
     ]
    },
    {
     "name": "stdout",
     "output_type": "stream",
     "text": [
      "*************************************************************************************************1 Failed to load speech.mat\n",
      "speech.mat\n",
      "cannot unpack non-iterable NoneType object\n",
      "annthyroid.mat (7200, 6)\n",
      "*************************************"
     ]
    },
    {
     "name": "stderr",
     "output_type": "stream",
     "text": [
      "/Users/lekhag/opt/anaconda3/lib/python3.7/site-packages/ipykernel_launcher.py:15: H5pyDeprecationWarning: The default file mode will change to 'r' (read-only) in h5py 3.0. To suppress this warning, pass the mode you need to h5py.File(), or set the global default h5.get_config().default_file_mode, or set the environment variable H5PY_DEFAULT_READONLY=1. Available modes are: 'r', 'r+', 'w', 'w-'/'x', 'a'. See the docs for details.\n",
      "  from ipykernel import kernelapp as app\n"
     ]
    },
    {
     "name": "stdout",
     "output_type": "stream",
     "text": [
      "***************************************************************pen-global-unsupervised-ad.csv (809, 16)\n",
      "**********************************************************"
     ]
    },
    {
     "name": "stderr",
     "output_type": "stream",
     "text": [
      "/Users/lekhag/opt/anaconda3/lib/python3.7/site-packages/pandas/core/computation/expressions.py:201: UserWarning: evaluating in Python space because the '+' operator is not supported by numexpr for the bool dtype, use '|' instead\n",
      "  f\"evaluating in Python space because the {repr(op_str)} \"\n"
     ]
    },
    {
     "name": "stdout",
     "output_type": "stream",
     "text": [
      "******************************************wbc.mat (378, 30)\n",
      "****************************************************************************************************cover.pickle (217, 10)\n",
      "****************************************************************************************************http.pickle (110, 3)\n",
      "****************************************************************************************************smtp.mat (95156, 3)\n",
      "smtp.mat\n",
      "Destination path '/Users/lekhag/Documents/INCAD Improvements/Parallel Gibbs/Cleaned Version//Data/Stream/Large/smtp.mat' already exists\n",
      "mammography.mat (11183, 6)\n",
      "**"
     ]
    },
    {
     "name": "stderr",
     "output_type": "stream",
     "text": [
      "/Users/lekhag/opt/anaconda3/lib/python3.7/site-packages/ipykernel_launcher.py:68: RuntimeWarning: divide by zero encountered in true_divide\n",
      "/Users/lekhag/opt/anaconda3/lib/python3.7/site-packages/ipykernel_launcher.py:83: RuntimeWarning: invalid value encountered in true_divide\n",
      "/Users/lekhag/opt/anaconda3/lib/python3.7/site-packages/ipykernel_launcher.py:15: H5pyDeprecationWarning: The default file mode will change to 'r' (read-only) in h5py 3.0. To suppress this warning, pass the mode you need to h5py.File(), or set the global default h5.get_config().default_file_mode, or set the environment variable H5PY_DEFAULT_READONLY=1. Available modes are: 'r', 'r+', 'w', 'w-'/'x', 'a'. See the docs for details.\n",
      "  from ipykernel import kernelapp as app\n"
     ]
    },
    {
     "name": "stdout",
     "output_type": "stream",
     "text": [
      "**************************************************************************************************glass.mat (214, 9)\n",
      "****************************************************************************************************1 Failed to load satimage-2.mat\n",
      "satimage-2.mat\n",
      "cannot unpack non-iterable NoneType object\n",
      "cover.mat (286048, 10)\n",
      "cover.mat\n",
      "Destination path '/Users/lekhag/Documents/INCAD Improvements/Parallel Gibbs/Cleaned Version//Data/Stream/Large/cover.mat' already exists\n"
     ]
    },
    {
     "name": "stderr",
     "output_type": "stream",
     "text": [
      "/Users/lekhag/opt/anaconda3/lib/python3.7/site-packages/ipykernel_launcher.py:68: RuntimeWarning: divide by zero encountered in true_divide\n",
      "/Users/lekhag/opt/anaconda3/lib/python3.7/site-packages/ipykernel_launcher.py:15: H5pyDeprecationWarning: The default file mode will change to 'r' (read-only) in h5py 3.0. To suppress this warning, pass the mode you need to h5py.File(), or set the global default h5.get_config().default_file_mode, or set the environment variable H5PY_DEFAULT_READONLY=1. Available modes are: 'r', 'r+', 'w', 'w-'/'x', 'a'. See the docs for details.\n",
      "  from ipykernel import kernelapp as app\n",
      "/Users/lekhag/opt/anaconda3/lib/python3.7/site-packages/pandas/core/computation/expressions.py:201: UserWarning: evaluating in Python space because the '+' operator is not supported by numexpr for the bool dtype, use '|' instead\n",
      "  f\"evaluating in Python space because the {repr(op_str)} \"\n"
     ]
    },
    {
     "name": "stdout",
     "output_type": "stream",
     "text": [
      "kdd99-unsupervised-ad.csv (620098, 29)\n",
      "kdd99-unsupervised-ad.csv\n",
      "Destination path '/Users/lekhag/Documents/INCAD Improvements/Parallel Gibbs/Cleaned Version//Data/Stream/Large/kdd99-unsupervised-ad.csv' already exists\n",
      "vertebral.mat (240, 6)\n",
      "****************************************************************************************************large_dataset_count,error_count,len(onlyfiles) 7 13 32\n"
     ]
    }
   ],
   "source": [
    "# Anomaly Detection Non-Stream\n",
    "onlyfiles = [f for f in listdir(data_source) if isfile(join(data_source, f)) and f not in \n",
    "             ['.DS_Store','ecoli.mat'] ]\n",
    "error_count=0\n",
    "large_dataset_count=0\n",
    "max_size=20001\n",
    "\n",
    "for f in onlyfiles:\n",
    "    file_path=data_source+'/'+f\n",
    "    K=2\n",
    "    th=0.95\n",
    "    covariance_type='full'\n",
    "    reg_covar=1e-16\n",
    "    numiters=100\n",
    "    conv_criteria=1e-30\n",
    "    cluster_train=0.25\n",
    "\n",
    "\n",
    "    try:\n",
    "        df,X,y=load_data(file_path)\n",
    "        XX=pd.DataFrame(X)\n",
    "        print(f,X.shape)\n",
    "        \n",
    "        N,D=X.shape\n",
    "        if N>max_size or D>30:\n",
    "            large_dataset_count+=1\n",
    "            shutil.move(file_path, data_source_large)\n",
    "            \n",
    "        else:\n",
    "            start=time.time()\n",
    "            output=ldp_cluster_kmeans(X,K,th,numiters,covariance_type,reg_covar,conv_criteria,cluster_train)\n",
    "            end=time.time()\n",
    "            output['file_path']=file_path\n",
    "            output['comp_time_secs']=end-start\n",
    "\n",
    "            pickle.dump( output, open(results_path+f+\".pickle\", \"wb\" ))\n",
    "\n",
    "    except Exception as e:\n",
    "        error_count+=1\n",
    "        print(f)\n",
    "        print(e)\n",
    "print(\"large_dataset_count,error_count,len(onlyfiles)\",large_dataset_count,error_count,len(onlyfiles))"
   ]
  },
  {
   "cell_type": "code",
   "execution_count": null,
   "metadata": {
    "hidden": true
   },
   "outputs": [],
   "source": []
  },
  {
   "cell_type": "markdown",
   "metadata": {
    "heading_collapsed": true
   },
   "source": [
    "###### Non Stream AD : Large datasets without clustering and with K=2 clustering"
   ]
  },
  {
   "cell_type": "code",
   "execution_count": 12,
   "metadata": {
    "ExecuteTime": {
     "end_time": "2021-02-05T02:58:54.827700Z",
     "start_time": "2021-02-05T02:51:32.907460Z"
    },
    "code_folding": [],
    "hidden": true,
    "scrolled": true
   },
   "outputs": [
    {
     "name": "stderr",
     "output_type": "stream",
     "text": [
      "/Users/lekhag/opt/anaconda3/lib/python3.7/site-packages/ipykernel_launcher.py:15: H5pyDeprecationWarning: The default file mode will change to 'r' (read-only) in h5py 3.0. To suppress this warning, pass the mode you need to h5py.File(), or set the global default h5.get_config().default_file_mode, or set the environment variable H5PY_DEFAULT_READONLY=1. Available modes are: 'r', 'r+', 'w', 'w-'/'x', 'a'. See the docs for details.\n",
      "  from ipykernel import kernelapp as app\n"
     ]
    },
    {
     "name": "stdout",
     "output_type": "stream",
     "text": [
      "http.mat (567498, 3)\n",
      "****************************************************************************************************"
     ]
    },
    {
     "name": "stderr",
     "output_type": "stream",
     "text": [
      "/Users/lekhag/opt/anaconda3/lib/python3.7/site-packages/pandas/core/computation/expressions.py:201: UserWarning: evaluating in Python space because the '+' operator is not supported by numexpr for the bool dtype, use '|' instead\n",
      "  f\"evaluating in Python space because the {repr(op_str)} \"\n"
     ]
    },
    {
     "name": "stdout",
     "output_type": "stream",
     "text": [
      "skin.preproc.csv (245057, 4)\n",
      "****************************************************************************************************mnist.mat (7603, 100)\n",
      "*****"
     ]
    },
    {
     "name": "stderr",
     "output_type": "stream",
     "text": [
      "/Users/lekhag/opt/anaconda3/lib/python3.7/site-packages/ipykernel_launcher.py:68: RuntimeWarning: divide by zero encountered in true_divide\n"
     ]
    },
    {
     "name": "stdout",
     "output_type": "stream",
     "text": [
      "***********************************************************************************************arrhythmia.mat (452, 274)\n",
      "****************************************************************************************************shuttle.preproc.csv (58000, 10)\n",
      "****************************************************************************************************shuttle.mat (49097, 9)\n",
      "****************************************************************************************************letter.mat (1600, 32)\n",
      "****************************************************************************************************musk.mat (3062, 166)\n",
      "****************************************************************************************************shuttle-unsupervised-ad.csv (46464, 9)\n",
      "****************************************************************************************************birch-rg1.arff (100000, 2)\n",
      "****************************************************************************************************mnist.raw.pickle (5996, 784)\n",
      "****************************************************************************************************gas.preproc.csv (13790, 129)\n",
      "****************************************************************************************************optdigits.mat (5216, 64)\n",
      "****************************************************************************************************comm.and.crime.preproc.csv (1994, 102)\n",
      "****************************************************************************************************satellite.mat (6435, 36)\n",
      "****************************************************************************************************speech.mat (3686, 400)\n",
      "****************************************************************************************************satimage.pickle (200, 36)\n",
      "****************************************************************************************************birch-rg3.arff (100000, 2)\n",
      "****************************************************************************************************sonar.arff (208, 60)\n",
      "****************************************************************************************************ionosphere.mat (351, 33)\n",
      "****************************************************************************************************birch-rg2.arff (100000, 2)\n",
      "****************************************************************************************************smtp.mat (95156, 3)\n",
      "****************************************************************************************************spambase.preproc.csv (4601, 58)\n",
      "****************************************************************************************************satimage-2.mat (5803, 36)\n",
      "****************************************************************************************************cover.mat (286048, 10)\n",
      "****************************************************************************************************kdd99-unsupervised-ad.csv (620098, 29)\n",
      "****************************************************************************************************arrhythmia.arff (452, 262)\n",
      "****************************************************************************************************opt.digits.preproc.csv (5620, 63)\n",
      "****************************************************************************************************letter-unsupervised-ad.csv (1600, 32)\n",
      "****************************************************************************************************large_dataset_count,error_count,len(onlyfiles) 0 0 29\n",
      "http.mat (567498, 3)\n",
      "****************************************************************************************************"
     ]
    },
    {
     "name": "stderr",
     "output_type": "stream",
     "text": [
      "/Users/lekhag/opt/anaconda3/lib/python3.7/site-packages/pandas/core/computation/expressions.py:201: UserWarning: evaluating in Python space because the '+' operator is not supported by numexpr for the bool dtype, use '|' instead\n",
      "  f\"evaluating in Python space because the {repr(op_str)} \"\n"
     ]
    },
    {
     "name": "stdout",
     "output_type": "stream",
     "text": [
      "skin.preproc.csv (245057, 4)\n",
      "******"
     ]
    },
    {
     "name": "stderr",
     "output_type": "stream",
     "text": [
      "/Users/lekhag/opt/anaconda3/lib/python3.7/site-packages/ipykernel_launcher.py:68: RuntimeWarning: divide by zero encountered in true_divide\n"
     ]
    },
    {
     "name": "stdout",
     "output_type": "stream",
     "text": [
      "**********************************************************************************************mnist.mat (7603, 100)\n",
      "*"
     ]
    },
    {
     "name": "stderr",
     "output_type": "stream",
     "text": [
      "/Users/lekhag/opt/anaconda3/lib/python3.7/site-packages/ipykernel_launcher.py:68: RuntimeWarning: divide by zero encountered in true_divide\n"
     ]
    },
    {
     "name": "stdout",
     "output_type": "stream",
     "text": [
      "***************************************************************************************************arrhythmia.mat (452, 274)\n",
      "***"
     ]
    },
    {
     "name": "stderr",
     "output_type": "stream",
     "text": [
      "/Users/lekhag/opt/anaconda3/lib/python3.7/site-packages/ipykernel_launcher.py:68: RuntimeWarning: divide by zero encountered in true_divide\n"
     ]
    },
    {
     "name": "stdout",
     "output_type": "stream",
     "text": [
      "*************************************************************************************************"
     ]
    },
    {
     "name": "stderr",
     "output_type": "stream",
     "text": [
      "/Users/lekhag/opt/anaconda3/lib/python3.7/site-packages/pandas/core/computation/expressions.py:201: UserWarning: evaluating in Python space because the '+' operator is not supported by numexpr for the bool dtype, use '|' instead\n",
      "  f\"evaluating in Python space because the {repr(op_str)} \"\n"
     ]
    },
    {
     "name": "stdout",
     "output_type": "stream",
     "text": [
      "shuttle.preproc.csv (58000, 10)\n",
      "****************************************************************************************************shuttle.mat (49097, 9)\n",
      "****************************************************************************************************letter.mat (1600, 32)\n",
      "****************************************************************************************************musk.mat (3062, 166)\n",
      "****************************************************************************************************"
     ]
    },
    {
     "name": "stderr",
     "output_type": "stream",
     "text": [
      "/Users/lekhag/opt/anaconda3/lib/python3.7/site-packages/pandas/core/computation/expressions.py:201: UserWarning: evaluating in Python space because the '+' operator is not supported by numexpr for the bool dtype, use '|' instead\n",
      "  f\"evaluating in Python space because the {repr(op_str)} \"\n"
     ]
    },
    {
     "name": "stdout",
     "output_type": "stream",
     "text": [
      "shuttle-unsupervised-ad.csv (46464, 9)\n",
      "****************************************************************************************************"
     ]
    },
    {
     "name": "stderr",
     "output_type": "stream",
     "text": [
      "/Users/lekhag/opt/anaconda3/lib/python3.7/site-packages/pandas/core/computation/expressions.py:201: UserWarning: evaluating in Python space because the '+' operator is not supported by numexpr for the bool dtype, use '|' instead\n",
      "  f\"evaluating in Python space because the {repr(op_str)} \"\n"
     ]
    },
    {
     "name": "stdout",
     "output_type": "stream",
     "text": [
      "birch-rg1.arff (100000, 2)\n",
      "****************************************************************************************************mnist.raw.pickle (5996, 784)\n",
      "*"
     ]
    },
    {
     "name": "stderr",
     "output_type": "stream",
     "text": [
      "/Users/lekhag/opt/anaconda3/lib/python3.7/site-packages/ipykernel_launcher.py:68: RuntimeWarning: divide by zero encountered in true_divide\n"
     ]
    },
    {
     "name": "stdout",
     "output_type": "stream",
     "text": [
      "***************************************************************************************************"
     ]
    },
    {
     "name": "stderr",
     "output_type": "stream",
     "text": [
      "/Users/lekhag/opt/anaconda3/lib/python3.7/site-packages/pandas/core/computation/expressions.py:201: UserWarning: evaluating in Python space because the '+' operator is not supported by numexpr for the bool dtype, use '|' instead\n",
      "  f\"evaluating in Python space because the {repr(op_str)} \"\n"
     ]
    },
    {
     "name": "stdout",
     "output_type": "stream",
     "text": [
      "gas.preproc.csv (13790, 129)\n",
      "****************************************************************************************************optdigits.mat (5216, 64)\n",
      "************"
     ]
    },
    {
     "name": "stderr",
     "output_type": "stream",
     "text": [
      "/Users/lekhag/opt/anaconda3/lib/python3.7/site-packages/ipykernel_launcher.py:68: RuntimeWarning: divide by zero encountered in true_divide\n"
     ]
    },
    {
     "name": "stdout",
     "output_type": "stream",
     "text": [
      "****************************************************************************************comm.and.crime.preproc.csv (1994, 102)\n",
      "***"
     ]
    },
    {
     "name": "stderr",
     "output_type": "stream",
     "text": [
      "/Users/lekhag/opt/anaconda3/lib/python3.7/site-packages/pandas/core/computation/expressions.py:201: UserWarning: evaluating in Python space because the '+' operator is not supported by numexpr for the bool dtype, use '|' instead\n",
      "  f\"evaluating in Python space because the {repr(op_str)} \"\n"
     ]
    },
    {
     "name": "stdout",
     "output_type": "stream",
     "text": [
      "*************************************************************************************************satellite.mat (6435, 36)\n",
      "****************************************************************************************************speech.mat (3686, 400)\n",
      "****************************************************************************************************satimage.pickle (200, 36)\n",
      "****************************************************************************************************"
     ]
    },
    {
     "name": "stderr",
     "output_type": "stream",
     "text": [
      "/Users/lekhag/opt/anaconda3/lib/python3.7/site-packages/pandas/core/computation/expressions.py:201: UserWarning: evaluating in Python space because the '+' operator is not supported by numexpr for the bool dtype, use '|' instead\n",
      "  f\"evaluating in Python space because the {repr(op_str)} \"\n"
     ]
    },
    {
     "name": "stdout",
     "output_type": "stream",
     "text": [
      "birch-rg3.arff (100000, 2)\n",
      "****************************************************************************************************sonar.arff (208, 60)\n",
      "********************"
     ]
    },
    {
     "name": "stderr",
     "output_type": "stream",
     "text": [
      "/Users/lekhag/opt/anaconda3/lib/python3.7/site-packages/pandas/core/computation/expressions.py:201: UserWarning: evaluating in Python space because the '+' operator is not supported by numexpr for the bool dtype, use '|' instead\n",
      "  f\"evaluating in Python space because the {repr(op_str)} \"\n"
     ]
    },
    {
     "name": "stdout",
     "output_type": "stream",
     "text": [
      "********************************************************************************ionosphere.mat (351, 33)\n",
      "****************************************************************************************************"
     ]
    },
    {
     "name": "stderr",
     "output_type": "stream",
     "text": [
      "/Users/lekhag/opt/anaconda3/lib/python3.7/site-packages/pandas/core/computation/expressions.py:201: UserWarning: evaluating in Python space because the '+' operator is not supported by numexpr for the bool dtype, use '|' instead\n",
      "  f\"evaluating in Python space because the {repr(op_str)} \"\n"
     ]
    },
    {
     "name": "stdout",
     "output_type": "stream",
     "text": [
      "birch-rg2.arff (100000, 2)\n",
      "****************************************************************************************************smtp.mat (95156, 3)\n"
     ]
    },
    {
     "name": "stderr",
     "output_type": "stream",
     "text": [
      "/Users/lekhag/opt/anaconda3/lib/python3.7/site-packages/ipykernel_launcher.py:15: H5pyDeprecationWarning: The default file mode will change to 'r' (read-only) in h5py 3.0. To suppress this warning, pass the mode you need to h5py.File(), or set the global default h5.get_config().default_file_mode, or set the environment variable H5PY_DEFAULT_READONLY=1. Available modes are: 'r', 'r+', 'w', 'w-'/'x', 'a'. See the docs for details.\n",
      "  from ipykernel import kernelapp as app\n",
      "/Users/lekhag/opt/anaconda3/lib/python3.7/site-packages/ipykernel_launcher.py:68: RuntimeWarning: divide by zero encountered in true_divide\n"
     ]
    },
    {
     "name": "stdout",
     "output_type": "stream",
     "text": [
      "****************************************************************************************************"
     ]
    },
    {
     "name": "stderr",
     "output_type": "stream",
     "text": [
      "/Users/lekhag/opt/anaconda3/lib/python3.7/site-packages/pandas/core/computation/expressions.py:201: UserWarning: evaluating in Python space because the '+' operator is not supported by numexpr for the bool dtype, use '|' instead\n",
      "  f\"evaluating in Python space because the {repr(op_str)} \"\n",
      "/Users/lekhag/opt/anaconda3/lib/python3.7/site-packages/ipykernel_launcher.py:68: RuntimeWarning: divide by zero encountered in true_divide\n"
     ]
    },
    {
     "name": "stdout",
     "output_type": "stream",
     "text": [
      "spambase.preproc.csv (4601, 58)\n",
      "****************************************************************************************************satimage-2.mat (5803, 36)\n",
      "****************************************************************************************************cover.mat (286048, 10)\n",
      "****************************************************************************************************"
     ]
    },
    {
     "name": "stderr",
     "output_type": "stream",
     "text": [
      "/Users/lekhag/opt/anaconda3/lib/python3.7/site-packages/pandas/core/computation/expressions.py:201: UserWarning: evaluating in Python space because the '+' operator is not supported by numexpr for the bool dtype, use '|' instead\n",
      "  f\"evaluating in Python space because the {repr(op_str)} \"\n"
     ]
    },
    {
     "name": "stdout",
     "output_type": "stream",
     "text": [
      "kdd99-unsupervised-ad.csv (620098, 29)\n",
      "*"
     ]
    },
    {
     "name": "stderr",
     "output_type": "stream",
     "text": [
      "/Users/lekhag/opt/anaconda3/lib/python3.7/site-packages/ipykernel_launcher.py:68: RuntimeWarning: divide by zero encountered in true_divide\n"
     ]
    },
    {
     "name": "stdout",
     "output_type": "stream",
     "text": [
      "***************************************************************************************************"
     ]
    },
    {
     "name": "stderr",
     "output_type": "stream",
     "text": [
      "/Users/lekhag/opt/anaconda3/lib/python3.7/site-packages/pandas/core/computation/expressions.py:201: UserWarning: evaluating in Python space because the '+' operator is not supported by numexpr for the bool dtype, use '|' instead\n",
      "  f\"evaluating in Python space because the {repr(op_str)} \"\n",
      "/Users/lekhag/opt/anaconda3/lib/python3.7/site-packages/ipykernel_launcher.py:68: RuntimeWarning: divide by zero encountered in true_divide\n"
     ]
    },
    {
     "name": "stdout",
     "output_type": "stream",
     "text": [
      "arrhythmia.arff (452, 262)\n",
      "****************************************************************************************************"
     ]
    },
    {
     "name": "stderr",
     "output_type": "stream",
     "text": [
      "/Users/lekhag/opt/anaconda3/lib/python3.7/site-packages/pandas/core/computation/expressions.py:201: UserWarning: evaluating in Python space because the '+' operator is not supported by numexpr for the bool dtype, use '|' instead\n",
      "  f\"evaluating in Python space because the {repr(op_str)} \"\n"
     ]
    },
    {
     "name": "stdout",
     "output_type": "stream",
     "text": [
      "opt.digits.preproc.csv (5620, 63)\n",
      "************"
     ]
    },
    {
     "name": "stderr",
     "output_type": "stream",
     "text": [
      "/Users/lekhag/opt/anaconda3/lib/python3.7/site-packages/ipykernel_launcher.py:68: RuntimeWarning: divide by zero encountered in true_divide\n"
     ]
    },
    {
     "name": "stdout",
     "output_type": "stream",
     "text": [
      "****************************************************************************************letter-unsupervised-ad.csv (1600, 32)\n"
     ]
    },
    {
     "name": "stderr",
     "output_type": "stream",
     "text": [
      "/Users/lekhag/opt/anaconda3/lib/python3.7/site-packages/pandas/core/computation/expressions.py:201: UserWarning: evaluating in Python space because the '+' operator is not supported by numexpr for the bool dtype, use '|' instead\n",
      "  f\"evaluating in Python space because the {repr(op_str)} \"\n"
     ]
    },
    {
     "name": "stdout",
     "output_type": "stream",
     "text": [
      "****************************************************************************************************large_dataset_count,error_count,len(onlyfiles) 0 0 29\n"
     ]
    }
   ],
   "source": [
    "data_source=data_source_large\n",
    "results_path= results_path_non_stream_ad_large\n",
    "\n",
    "# Anomaly Detection Non-Stream\n",
    "onlyfiles = [f for f in listdir(data_source) if isfile(join(data_source, f)) and f not in \n",
    "             ['.DS_Store','ecoli.mat'] ]\n",
    "error_count=0\n",
    "large_dataset_count=0\n",
    "max_size=20001\n",
    "\n",
    "for f in onlyfiles:\n",
    "    file_path=data_source+'/'+f\n",
    "    K=1\n",
    "    th=0.95\n",
    "    covariance_type='full'\n",
    "    reg_covar=1e-16\n",
    "    numiters=100\n",
    "    conv_criteria=1e-30\n",
    "    cluster_train=0.25\n",
    "\n",
    "\n",
    "    try:\n",
    "        df,X,y=load_data(file_path)\n",
    "        XX=pd.DataFrame(X)\n",
    "        print(f,X.shape)\n",
    "        \n",
    "        N,D=X.shape\n",
    "        start=time.time()\n",
    "        output=ldp_cluster_kmeans(X,K,th,numiters,covariance_type,reg_covar,conv_criteria,cluster_train)\n",
    "        end=time.time()\n",
    "        output['file_path']=file_path\n",
    "        output['comp_time_secs']=end-start\n",
    "\n",
    "        pickle.dump( output, open(results_path+f+\".pickle\", \"wb\" ))\n",
    "\n",
    "    except Exception as e:\n",
    "        error_count+=1\n",
    "        print(f)\n",
    "        print(e)\n",
    "print(\"large_dataset_count,error_count,len(onlyfiles)\",large_dataset_count,error_count,len(onlyfiles))\n",
    "\n",
    "\n",
    "data_source=data_source_large\n",
    "results_path= results_path_non_stream_clust_large\n",
    "\n",
    "# Anomaly Detection Non-Stream\n",
    "onlyfiles = [f for f in listdir(data_source) if isfile(join(data_source, f)) and f not in \n",
    "             ['.DS_Store','ecoli.mat'] ]\n",
    "error_count=0\n",
    "large_dataset_count=0\n",
    "max_size=20001\n",
    "\n",
    "for f in onlyfiles:\n",
    "    file_path=data_source+'/'+f\n",
    "    K=2\n",
    "    th=0.95\n",
    "    covariance_type='full'\n",
    "    reg_covar=1e-16\n",
    "    numiters=100\n",
    "    conv_criteria=1e-30\n",
    "    cluster_train=0.25\n",
    "\n",
    "\n",
    "    try:\n",
    "        df,X,y=load_data(file_path)\n",
    "        XX=pd.DataFrame(X)\n",
    "        print(f,X.shape)\n",
    "        \n",
    "        N,D=X.shape\n",
    "        start=time.time()\n",
    "        output=ldp_cluster_kmeans(X,K,th,numiters,covariance_type,reg_covar,conv_criteria,cluster_train)\n",
    "        end=time.time()\n",
    "        output['file_path']=file_path\n",
    "        output['comp_time_secs']=end-start\n",
    "\n",
    "        pickle.dump( output, open(results_path+f+\".pickle\", \"wb\" ))\n",
    "\n",
    "    except Exception as e:\n",
    "        error_count+=1\n",
    "        print(f)\n",
    "        print(e)\n",
    "print(\"large_dataset_count,error_count,len(onlyfiles)\",large_dataset_count,error_count,len(onlyfiles))"
   ]
  },
  {
   "cell_type": "code",
   "execution_count": null,
   "metadata": {
    "hidden": true
   },
   "outputs": [],
   "source": []
  },
  {
   "cell_type": "markdown",
   "metadata": {
    "heading_collapsed": true
   },
   "source": [
    "###### Data Descriptions"
   ]
  },
  {
   "cell_type": "code",
   "execution_count": 13,
   "metadata": {
    "ExecuteTime": {
     "end_time": "2021-02-05T02:58:54.831658Z",
     "start_time": "2021-02-05T02:58:54.829323Z"
    },
    "hidden": true
   },
   "outputs": [],
   "source": [
    "import warnings\n",
    "warnings.filterwarnings(\"ignore\")"
   ]
  },
  {
   "cell_type": "code",
   "execution_count": 14,
   "metadata": {
    "ExecuteTime": {
     "end_time": "2021-02-05T02:58:54.836391Z",
     "start_time": "2021-02-05T02:58:54.833528Z"
    },
    "hidden": true
   },
   "outputs": [],
   "source": [
    "def ana_label(y):\n",
    "    labels,prop=np.unique(y, return_counts=True)\n",
    "    return (y==labels[np.argmin(prop)])*1"
   ]
  },
  {
   "cell_type": "code",
   "execution_count": 15,
   "metadata": {
    "ExecuteTime": {
     "end_time": "2021-02-05T02:58:54.840075Z",
     "start_time": "2021-02-05T02:58:54.837934Z"
    },
    "hidden": true
   },
   "outputs": [],
   "source": [
    "data_source=data_source_ad"
   ]
  },
  {
   "cell_type": "code",
   "execution_count": 16,
   "metadata": {
    "ExecuteTime": {
     "end_time": "2021-02-05T03:01:04.860228Z",
     "start_time": "2021-02-05T03:01:01.931612Z"
    },
    "code_folding": [
     0
    ],
    "hidden": true,
    "scrolled": true
   },
   "outputs": [
    {
     "name": "stdout",
     "output_type": "stream",
     "text": [
      "http.mat  &  567498  &  3  &  0.39 \\% \\\\ \n",
      "pima.mat  &  768  &  8  &  34.896 \\% \\\\ \n",
      "wine.mat  &  129  &  13  &  7.752 \\% \\\\ \n",
      "cardio.mat  &  1831  &  21  &  9.612 \\% \\\\ \n",
      "mnist.mat  &  7603  &  100  &  9.207 \\% \\\\ \n",
      "1 Failed to load arrhythmia.mat\n",
      "pendigits.mat  &  6870  &  16  &  2.271 \\% \\\\ \n",
      "breast-cancer-unsupervised-ad.csv  &  367  &  30  &  30    2.725\n",
      "dtype: float64 \\% \\\\ \n",
      "shuttle.mat  &  49097  &  9  &  7.151 \\% \\\\ \n",
      "1 Failed to load musk.mat\n",
      "shuttle-unsupervised-ad.csv  &  46464  &  9  &  9    1.89\n",
      "dtype: float64 \\% \\\\ \n",
      "thyroid.mat  &  3772  &  6  &  2.466 \\% \\\\ \n",
      "vowels.mat  &  1456  &  12  &  3.434 \\% \\\\ \n",
      "1 Failed to load optdigits.mat\n",
      "breastw.mat  &  683  &  9  &  34.993 \\% \\\\ \n",
      "1 Failed to load satellite.mat\n",
      "lympho.mat  &  148  &  18  &  4.054 \\% \\\\ \n",
      "1 Failed to load speech.mat\n",
      "annthyroid.mat  &  7200  &  6  &  7.417 \\% \\\\ \n",
      "pen-global-unsupervised-ad.csv  &  809  &  16  &  16    11.125\n",
      "dtype: float64 \\% \\\\ \n",
      "wbc.mat  &  378  &  30  &  5.556 \\% \\\\ \n",
      "smtp.mat  &  95156  &  3  &  0.032 \\% \\\\ \n",
      "mammography.mat  &  11183  &  6  &  2.325 \\% \\\\ \n",
      "glass.mat  &  214  &  9  &  4.206 \\% \\\\ \n",
      "1 Failed to load satimage-2.mat\n",
      "cover.mat  &  286048  &  10  &  0.96 \\% \\\\ \n",
      "kdd99-unsupervised-ad.csv  &  620098  &  29  &  29    0.17\n",
      "dtype: float64 \\% \\\\ \n",
      "vertebral.mat  &  240  &  6  &  12.5 \\% \\\\ \n"
     ]
    }
   ],
   "source": [
    "# Anomaly Detection Non-Stream\n",
    "onlyfiles = [f for f in listdir(data_source) if isfile(join(data_source, f)) and f not in \n",
    "             ['.DS_Store','ecoli.mat'] ]\n",
    "error_count=0\n",
    "large_dataset_count=0\n",
    "max_size=20001\n",
    "\n",
    "for f in onlyfiles:\n",
    "    file_path=data_source+'/'+f\n",
    "    try:\n",
    "        df,X,y=load_data(file_path)\n",
    "        try:\n",
    "            y=ana_label(y)\n",
    "            if (y.shape[1])>1:\n",
    "                try:\n",
    "                    y=ana_label(y['class'])\n",
    "                except:\n",
    "                    try:\n",
    "                        y=ana_label(y['ground.truth'])\n",
    "                    except:\n",
    "                        pass                \n",
    "        except:\n",
    "            try:\n",
    "                y=ana_label(y['class'])\n",
    "            except:\n",
    "                try:\n",
    "                    y=ana_label(y['ground.truth'])\n",
    "                except:\n",
    "                    pass\n",
    "                \n",
    "        if (y.shape[1])>1:\n",
    "            print('issue')\n",
    "            break\n",
    "        \n",
    "        print(f,' & ', X.shape[0], ' & ',X.shape[1], ' & ', (np.mean(y)*100).round(3),'\\% \\\\\\ ')\n",
    "    except:\n",
    "        pass\n",
    "        \n"
   ]
  },
  {
   "cell_type": "code",
   "execution_count": null,
   "metadata": {
    "hidden": true
   },
   "outputs": [],
   "source": []
  },
  {
   "cell_type": "code",
   "execution_count": null,
   "metadata": {
    "hidden": true
   },
   "outputs": [],
   "source": []
  },
  {
   "cell_type": "code",
   "execution_count": null,
   "metadata": {
    "hidden": true
   },
   "outputs": [],
   "source": []
  },
  {
   "cell_type": "code",
   "execution_count": null,
   "metadata": {
    "hidden": true
   },
   "outputs": [],
   "source": []
  }
 ],
 "metadata": {
  "kernelspec": {
   "display_name": "Python 3 (ipykernel)",
   "language": "python",
   "name": "python3"
  },
  "language_info": {
   "codemirror_mode": {
    "name": "ipython",
    "version": 3
   },
   "file_extension": ".py",
   "mimetype": "text/x-python",
   "name": "python",
   "nbconvert_exporter": "python",
   "pygments_lexer": "ipython3",
   "version": "3.7.7"
  },
  "toc": {
   "base_numbering": 1,
   "nav_menu": {},
   "number_sections": true,
   "sideBar": true,
   "skip_h1_title": false,
   "title_cell": "Table of Contents",
   "title_sidebar": "Contents",
   "toc_cell": false,
   "toc_position": {},
   "toc_section_display": true,
   "toc_window_display": false
  },
  "varInspector": {
   "cols": {
    "lenName": 16,
    "lenType": 16,
    "lenVar": 40
   },
   "kernels_config": {
    "python": {
     "delete_cmd_postfix": "",
     "delete_cmd_prefix": "del ",
     "library": "var_list.py",
     "varRefreshCmd": "print(var_dic_list())"
    },
    "r": {
     "delete_cmd_postfix": ") ",
     "delete_cmd_prefix": "rm(",
     "library": "var_list.r",
     "varRefreshCmd": "cat(var_dic_list()) "
    }
   },
   "types_to_exclude": [
    "module",
    "function",
    "builtin_function_or_method",
    "instance",
    "_Feature"
   ],
   "window_display": false
  }
 },
 "nbformat": 4,
 "nbformat_minor": 4
}
