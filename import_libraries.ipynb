{
 "cells": [
  {
   "cell_type": "code",
   "execution_count": null,
   "metadata": {},
   "outputs": [],
   "source": [
    "# # Import Libraries\n",
    "# import matplotlib\n",
    "# matplotlib.use('agg')\n",
    "# from google.colab import drive\n",
    "# drive.mount('/content/gdrive')\n",
    "# sys.path.append('/content/gdrive/My Drive/Colab Notebooks')\n",
    "%load_ext line_profiler\n",
    "\n",
    "import numpy as np\n",
    "import pickle\n",
    "import pandas as pd\n",
    "import sys\n",
    "import time, random               # add some random sleep time\n",
    "import scipy\n",
    "import glob\n",
    "import scipy.stats as stats\n",
    "import time\n",
    "import os\n",
    "import math\n",
    "import copy\n",
    "import statsmodels.api as sm\n",
    "import itertools\n",
    "import re\n",
    "import itertools\n",
    "import shutil\n",
    "import h5py\n",
    "import matplotlib\n",
    "from scipy.io import arff\n",
    "\n",
    "from os import listdir\n",
    "\n",
    "# from spot import SPOT\n",
    "from os.path import isfile, join\n",
    "from statsutils import *\n",
    "from boltons.statsutils import *\n",
    "from datetime import datetime\n",
    "from itertools import repeat,cycle, islice\n",
    "from ipywidgets import interact\n",
    "from dateutil.parser import parse\n",
    "\n",
    "from sklearn.preprocessing import normalize, StandardScaler\n",
    "from sklearn.decomposition import PCA\n",
    "from sklearn.manifold import TSNE\n",
    "from sklearn.metrics import confusion_matrix, accuracy_score\n",
    "from sklearn.utils import check_random_state, shuffle\n",
    "from sklearn.cluster import KMeans, MiniBatchKMeans\n",
    "from sklearn.svm import OneClassSVM as ocsvm\n",
    "from sklearn import cluster, datasets, metrics, mixture,svm\n",
    "from sklearn.neighbors import KNeighborsClassifier,LocalOutlierFactor,kneighbors_graph\n",
    "from sklearn.model_selection import train_test_split\n",
    "from imblearn.over_sampling import RandomOverSampler\n",
    "\n",
    "\n",
    "from scipy import linalg\n",
    "from scipy.special import gamma, factorial, digamma,betaln, gammaln\n",
    "from scipy.stats import beta, multivariate_normal, wishart,invwishart,t, mode\n",
    "from scipy.stats import genextreme as gev\n",
    "import scipy.spatial as sp\n",
    "import scipy.io\n",
    "from scipy.io import arff\n",
    "\n",
    "from mpl_toolkits.mplot3d import Axes3D\n",
    "import plotly.graph_objects as go\n",
    "import plotly.graph_objs as go\n",
    "import seaborn as sns\n",
    "import matplotlib.pyplot as plt\n",
    "from matplotlib import cm\n",
    "from matplotlib.ticker import LinearLocator, FormatStrFormatter\n",
    "import matplotlib.pylab as pylab\n",
    "import matplotlib as mpl\n",
    "\n",
    "sns.set(color_codes=True)\n",
    "sns.set_style(\"whitegrid\")\n",
    "sns.set_context(\"paper\", font_scale=2)\n",
    "%config InlineBackend.print_figure_kwargs = {'bbox_inches':None}\n",
    "%matplotlib inline"
   ]
  }
 ],
 "metadata": {
  "kernelspec": {
   "display_name": "Python 3",
   "language": "python",
   "name": "python3"
  },
  "language_info": {
   "codemirror_mode": {
    "name": "ipython",
    "version": 3
   },
   "file_extension": ".py",
   "mimetype": "text/x-python",
   "name": "python",
   "nbconvert_exporter": "python",
   "pygments_lexer": "ipython3",
   "version": "3.7.7"
  },
  "toc": {
   "base_numbering": 1,
   "nav_menu": {},
   "number_sections": true,
   "sideBar": true,
   "skip_h1_title": false,
   "title_cell": "Table of Contents",
   "title_sidebar": "Contents",
   "toc_cell": false,
   "toc_position": {},
   "toc_section_display": true,
   "toc_window_display": false
  },
  "varInspector": {
   "cols": {
    "lenName": 16,
    "lenType": 16,
    "lenVar": 40
   },
   "kernels_config": {
    "python": {
     "delete_cmd_postfix": "",
     "delete_cmd_prefix": "del ",
     "library": "var_list.py",
     "varRefreshCmd": "print(var_dic_list())"
    },
    "r": {
     "delete_cmd_postfix": ") ",
     "delete_cmd_prefix": "rm(",
     "library": "var_list.r",
     "varRefreshCmd": "cat(var_dic_list()) "
    }
   },
   "types_to_exclude": [
    "module",
    "function",
    "builtin_function_or_method",
    "instance",
    "_Feature"
   ],
   "window_display": false
  }
 },
 "nbformat": 4,
 "nbformat_minor": 4
}
